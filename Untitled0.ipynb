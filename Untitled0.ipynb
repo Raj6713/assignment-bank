{
  "nbformat": 4,
  "nbformat_minor": 0,
  "metadata": {
    "colab": {
      "name": "Untitled0.ipynb",
      "version": "0.3.2",
      "provenance": [],
      "collapsed_sections": []
    },
    "kernelspec": {
      "name": "python3",
      "display_name": "Python 3"
    }
  },
  "cells": [
    {
      "cell_type": "markdown",
      "metadata": {
        "id": "view-in-github",
        "colab_type": "text"
      },
      "source": [
        "[View in Colaboratory](https://colab.research.google.com/github/Raj6713/assignment-bank/blob/master/Untitled0.ipynb)"
      ]
    },
    {
      "metadata": {
        "id": "7-A1OoQJFNVG",
        "colab_type": "code",
        "colab": {}
      },
      "cell_type": "code",
      "source": [
        "#Cell 1\n",
        "import math\n",
        "from IPython import display\n",
        "from matplotlib import cm\n",
        "from matplotlib import gridspec\n",
        "from matplotlib import pyplot as plt\n",
        "import numpy as np\n",
        "import pandas as pd\n",
        "from sklearn import metrics\n",
        "import tensorflow as tf\n",
        "from tensorflow.python.data import Dataset\n",
        "\n",
        "tf.logging.set_verbosity(tf.logging.ERROR)\n",
        "pd.options.display.max_rows=10\n",
        "pd.options.display.float_format='{:.1f}'.format\n",
        "california_housing_dataframe=pd.read_csv(\"https://storage.googleapis.com/mledu-datasets/california_housing_train.csv\", sep=\",\")\n",
        "                                         "
      ],
      "execution_count": 0,
      "outputs": []
    },
    {
      "metadata": {
        "id": "UaKEOYaJLXUP",
        "colab_type": "code",
        "colab": {
          "base_uri": "https://localhost:8080/",
          "height": 476
        },
        "outputId": "bdbd9706-263a-4a82-d661-bc29ca759273"
      },
      "cell_type": "code",
      "source": [
        "print(california_housing_dataframe)"
      ],
      "execution_count": 4,
      "outputs": [
        {
          "output_type": "stream",
          "text": [
            "       longitude  latitude  housing_median_age  total_rooms  total_bedrooms  \\\n",
            "0         -114.3      34.2                15.0       5612.0          1283.0   \n",
            "1         -114.5      34.4                19.0       7650.0          1901.0   \n",
            "2         -114.6      33.7                17.0        720.0           174.0   \n",
            "3         -114.6      33.6                14.0       1501.0           337.0   \n",
            "4         -114.6      33.6                20.0       1454.0           326.0   \n",
            "...          ...       ...                 ...          ...             ...   \n",
            "16995     -124.3      40.6                52.0       2217.0           394.0   \n",
            "16996     -124.3      40.7                36.0       2349.0           528.0   \n",
            "16997     -124.3      41.8                17.0       2677.0           531.0   \n",
            "16998     -124.3      41.8                19.0       2672.0           552.0   \n",
            "16999     -124.3      40.5                52.0       1820.0           300.0   \n",
            "\n",
            "       population  households  median_income  median_house_value  \n",
            "0          1015.0       472.0            1.5             66900.0  \n",
            "1          1129.0       463.0            1.8             80100.0  \n",
            "2           333.0       117.0            1.7             85700.0  \n",
            "3           515.0       226.0            3.2             73400.0  \n",
            "4           624.0       262.0            1.9             65500.0  \n",
            "...           ...         ...            ...                 ...  \n",
            "16995       907.0       369.0            2.4            111400.0  \n",
            "16996      1194.0       465.0            2.5             79000.0  \n",
            "16997      1244.0       456.0            3.0            103600.0  \n",
            "16998      1298.0       478.0            2.0             85800.0  \n",
            "16999       806.0       270.0            3.0             94600.0  \n",
            "\n",
            "[17000 rows x 9 columns]\n"
          ],
          "name": "stdout"
        }
      ]
    },
    {
      "metadata": {
        "id": "36uFu4_2L1Qc",
        "colab_type": "code",
        "colab": {
          "base_uri": "https://localhost:8080/",
          "height": 340
        },
        "outputId": "335342e4-2b46-4087-c1a4-9db7a7860be1"
      },
      "cell_type": "code",
      "source": [
        "print(california_housing_dataframe.describe())"
      ],
      "execution_count": 5,
      "outputs": [
        {
          "output_type": "stream",
          "text": [
            "       longitude  latitude  housing_median_age  total_rooms  total_bedrooms  \\\n",
            "count    17000.0   17000.0             17000.0      17000.0         17000.0   \n",
            "mean      -119.6      35.6                28.6       2643.7           539.4   \n",
            "std          2.0       2.1                12.6       2179.9           421.5   \n",
            "min       -124.3      32.5                 1.0          2.0             1.0   \n",
            "25%       -121.8      33.9                18.0       1462.0           297.0   \n",
            "50%       -118.5      34.2                29.0       2127.0           434.0   \n",
            "75%       -118.0      37.7                37.0       3151.2           648.2   \n",
            "max       -114.3      42.0                52.0      37937.0          6445.0   \n",
            "\n",
            "       population  households  median_income  median_house_value  \n",
            "count     17000.0     17000.0        17000.0             17000.0  \n",
            "mean       1429.6       501.2            3.9            207300.9  \n",
            "std        1147.9       384.5            1.9            115983.8  \n",
            "min           3.0         1.0            0.5             14999.0  \n",
            "25%         790.0       282.0            2.6            119400.0  \n",
            "50%        1167.0       409.0            3.5            180400.0  \n",
            "75%        1721.0       605.2            4.8            265000.0  \n",
            "max       35682.0      6082.0           15.0            500001.0  \n"
          ],
          "name": "stdout"
        }
      ]
    },
    {
      "metadata": {
        "id": "G23AeB0cL_Vl",
        "colab_type": "code",
        "colab": {}
      },
      "cell_type": "code",
      "source": [
        "def preprocess_features(california_housing_dataframe):\n",
        "  selected_features=california_housing_datafrane[\n",
        "      [\n",
        "          'latitude',\n",
        "          'longitude',\n",
        "          'housing_median_age',\n",
        "          'total_rooms',\n",
        "          'total_bedrooms',\n",
        "          'population',\n",
        "          'households',\n",
        "          'median_income'\n",
        "      ]\n",
        "  ]\n",
        "  processed_features=selected_features.copy()\n",
        "  processed_features['rooms_per_person']=(\n",
        "  california_housing_dataframe['total_rooms']/california_housing_dataframe['population'])\n",
        "  return processed_features"
      ],
      "execution_count": 0,
      "outputs": []
    },
    {
      "metadata": {
        "id": "tm8DNqkFNabP",
        "colab_type": "code",
        "colab": {}
      },
      "cell_type": "code",
      "source": [
        "def preprocess_targets(california_housing_dataframe):\n",
        "  "
      ],
      "execution_count": 0,
      "outputs": []
    }
  ]
}